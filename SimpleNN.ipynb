{
 "cells": [
  {
   "cell_type": "code",
   "execution_count": 184,
   "metadata": {},
   "outputs": [],
   "source": [
    "import matplotlib.pyplot as plt\n",
    "import numpy as np\n",
    "import pandas as pd\n",
    "import seaborn as sns\n",
    "import torch\n",
    "import torch.nn as nn\n",
    "from torch.utils.data import Dataset, DataLoader\n",
    "from torch import optim\n",
    "\n",
    "import pytorch_lightning as pl\n",
    "from pytorch_lightning.callbacks import Callback\n",
    "from pytorch_lightning.callbacks.early_stopping import EarlyStopping\n",
    "from pytorch_lightning.callbacks import TQDMProgressBar\n",
    "from pytorch_lightning import loggers as pl_loggers\n",
    "\n",
    "plt.rcParams['figure.figsize'] = (2, 2)"
   ]
  },
  {
   "cell_type": "code",
   "execution_count": 110,
   "metadata": {},
   "outputs": [],
   "source": [
    "class MyDataset(Dataset):\n",
    "    def __init__(self, train_features, train_targets_scored):\n",
    "        gexp_cols = train_features.columns[train_features.columns.str.contains(\"g-\")]\n",
    "        viability_cols = train_features.columns[train_features.columns.str.contains(\"c-\")]  \n",
    "        X_gexp = train_features[gexp_cols].values\n",
    "        X_viability = train_features[viability_cols].values\n",
    "\n",
    "        self.X_gexp = torch.tensor(X_gexp, dtype=torch.float32)\n",
    "        self.X_viability = torch.tensor(X_viability, dtype=torch.float32)\n",
    "        self.y = torch.tensor(train_targets_scored.values, dtype=torch.float32)\n",
    "\n",
    "    def __len__(self):\n",
    "        return len(self.X_gexp)\n",
    "\n",
    "    def __getitem__(self,idx):\n",
    "        return self.X_gexp[idx], self.X_viability[idx], self.y[idx]"
   ]
  },
  {
   "cell_type": "code",
   "execution_count": 111,
   "metadata": {},
   "outputs": [],
   "source": [
    "train_features = pd.read_csv('data/train_features.csv', index_col=0)\n",
    "train_drug = pd.read_csv('data/train_drug.csv', index_col=0)\n",
    "train_targets_scored = pd.read_csv('data/train_targets_scored.csv', index_col=0)\n",
    "train_targets_nonscored = pd.read_csv('data/train_targets_nonscored.csv', index_col=0)\n",
    "test_features = pd.read_csv('data/test_features.csv', index_col=0)"
   ]
  },
  {
   "cell_type": "code",
   "execution_count": 112,
   "metadata": {},
   "outputs": [],
   "source": [
    "my_data = MyDataset(train_features, train_targets_scored)\n",
    "train_loader=DataLoader(my_data, batch_size=128, shuffle=False)"
   ]
  },
  {
   "cell_type": "code",
   "execution_count": 113,
   "metadata": {},
   "outputs": [],
   "source": [
    "# use 20% of training data for validation\n",
    "train_set_size = int(len(my_data) * 0.8)\n",
    "valid_set_size = len(my_data) - train_set_size\n",
    "\n",
    "# split the train set into two\n",
    "seed = torch.Generator().manual_seed(42)\n",
    "train_set, valid_set = torch.utils.data.random_split(my_data, [train_set_size, valid_set_size], generator=seed)\n",
    "\n",
    "train_loader = DataLoader(train_set, batch_size=128, shuffle=True)\n",
    "valid_loader = DataLoader(valid_set, batch_size=128, shuffle=False)"
   ]
  },
  {
   "cell_type": "code",
   "execution_count": 169,
   "metadata": {},
   "outputs": [],
   "source": [
    "class PredTask(pl.LightningModule):\n",
    "    def __init__(self, model):\n",
    "        super().__init__()\n",
    "        self.model = model\n",
    "        self.loss_func = nn.BCELoss()\n",
    "\n",
    "    def forward(self, batch):\n",
    "        output = self.model(batch)\n",
    "        return output\n",
    "    \n",
    "    def _shared_step(self, batch):\n",
    "        X_gexp, X_viability, y = batch\n",
    "        output = self.model(X_gexp, X_viability)\n",
    "        loss = self.loss_func(output, y)\n",
    "        return loss\n",
    "    \n",
    "    def training_step(self, batch, batch_idx):\n",
    "        loss = self._shared_step(batch)\n",
    "        self.log('train_loss', loss, on_step=False, on_epoch=True, prog_bar=True)\n",
    "        return loss\n",
    "    \n",
    "    def validation_step(self, batch, batch_idx):\n",
    "        loss = self._shared_step(batch)\n",
    "        self.log('val_loss', loss, on_step=False, on_epoch=True, prog_bar=False)\n",
    "        return loss\n",
    "\n",
    "    def configure_optimizers(self):\n",
    "        optimizer = optim.Adam(self.parameters(), lr=1e-3)\n",
    "        return optimizer"
   ]
  },
  {
   "cell_type": "code",
   "execution_count": 240,
   "metadata": {},
   "outputs": [],
   "source": [
    "class CatNN(pl.LightningModule):\n",
    "    def __init__(\n",
    "            self, \n",
    "            hidden_neurons=10, \n",
    "            output_neurons=10,\n",
    "        ):\n",
    "        super().__init__()\n",
    "        self.gexp_nn = nn.Sequential(\n",
    "            nn.Linear(772, hidden_neurons), \n",
    "            nn.BatchNorm1d(hidden_neurons),\n",
    "            nn.ReLU(), \n",
    "            nn.Dropout(0.5),\n",
    "            nn.Linear(hidden_neurons, hidden_neurons),\n",
    "            nn.BatchNorm1d(hidden_neurons),\n",
    "            nn.ReLU(), \n",
    "            nn.Dropout(0.5),\n",
    "            nn.Linear(hidden_neurons, 15) \n",
    "        )\n",
    "        self.viability_nn = nn.Sequential(\n",
    "            nn.Linear(100, hidden_neurons), \n",
    "            nn.BatchNorm1d(hidden_neurons), \n",
    "            nn.ReLU(), \n",
    "            nn.Dropout(0.5),\n",
    "            nn.Linear(hidden_neurons, hidden_neurons),\n",
    "            nn.BatchNorm1d(hidden_neurons),\n",
    "            nn.ReLU(), \n",
    "            nn.Dropout(0.5),\n",
    "            nn.Linear(hidden_neurons, 5) \n",
    "        )\n",
    "        self.final_nn = nn.Sequential(\n",
    "            nn.Linear(20, hidden_neurons), \n",
    "            nn.BatchNorm1d(hidden_neurons), \n",
    "            nn.ReLU(), \n",
    "            nn.Dropout(0.5),\n",
    "            nn.Linear(hidden_neurons, 206), \n",
    "            nn.Sigmoid()\n",
    "        )\n",
    "\n",
    "    def forward(self, X_gexp, X_viability):\n",
    "        z_gexp = self.gexp_nn(X_gexp)\n",
    "        z_viability = self.viability_nn(X_viability)\n",
    "        cat_z = torch.cat([z_gexp, z_viability], dim=1)\n",
    "        output = self.final_nn(cat_z)\n",
    "        return output"
   ]
  },
  {
   "cell_type": "code",
   "execution_count": 207,
   "metadata": {},
   "outputs": [],
   "source": [
    "class SumNN(pl.LightningModule):\n",
    "    def __init__(\n",
    "            self, \n",
    "            hidden_neurons=10, \n",
    "            output_neurons=10,\n",
    "        ):\n",
    "        super().__init__()\n",
    "        self.gexp_nn = nn.Sequential(\n",
    "            nn.Linear(772, hidden_neurons), \n",
    "            nn.BatchNorm1d(hidden_neurons),\n",
    "            nn.ReLU(), \n",
    "            nn.Dropout(0.5),\n",
    "            nn.Linear(hidden_neurons, output_neurons),\n",
    "            nn.ReLU()\n",
    "        )\n",
    "        self.viability_nn = nn.Sequential(\n",
    "            nn.Linear(100, hidden_neurons), \n",
    "            nn.BatchNorm1d(hidden_neurons), \n",
    "            nn.ReLU(), \n",
    "            nn.Dropout(0.5),\n",
    "            nn.Linear(hidden_neurons, output_neurons),\n",
    "            nn.ReLU()\n",
    "        )\n",
    "        self.final_nn = nn.Sequential(\n",
    "            nn.Linear(output_neurons, hidden_neurons), \n",
    "            nn.BatchNorm1d(hidden_neurons), \n",
    "            nn.ReLU(), \n",
    "            #nn.Dropout(0.5),\n",
    "            nn.Linear(hidden_neurons, 206), \n",
    "            nn.Sigmoid()\n",
    "        )\n",
    "        self.alpha = nn.Parameter(torch.tensor(0.5))\n",
    "        self.beta = nn.Parameter(torch.tensor(0.5))\n",
    "    def forward(self, X_gexp, X_viability):\n",
    "        z_gexp = self.gexp_nn(X_gexp)\n",
    "        z_viability = self.viability_nn(X_viability)\n",
    "        joint_z = self.alpha * z_gexp + self.beta * z_viability\n",
    "        output = self.final_nn(joint_z)\n",
    "        return output"
   ]
  },
  {
   "cell_type": "code",
   "execution_count": 233,
   "metadata": {},
   "outputs": [],
   "source": [
    "class SimpleNN(pl.LightningModule):\n",
    "    def __init__(\n",
    "            self, \n",
    "            hidden_neurons=10, \n",
    "        ):\n",
    "        super().__init__()\n",
    "        self.nn = nn.Sequential(\n",
    "            nn.LazyLinear(hidden_neurons), \n",
    "            nn.BatchNorm1d(hidden_neurons),\n",
    "            nn.ReLU(), \n",
    "            nn.Dropout(0.5),\n",
    "            nn.Linear(hidden_neurons, 206),\n",
    "            nn.Sigmoid()\n",
    "        )\n",
    "\n",
    "    def forward(self, X_gexp, X_viability):\n",
    "        output = self.nn(torch.cat([X_gexp, X_viability], dim=1))\n",
    "        #output = self.nn(X_gexp)\n",
    "        #output = self.nn(X_viability)\n",
    "        return output"
   ]
  },
  {
   "cell_type": "code",
   "execution_count": 241,
   "metadata": {},
   "outputs": [
    {
     "name": "stderr",
     "output_type": "stream",
     "text": [
      "GPU available: False, used: False\n",
      "TPU available: False, using: 0 TPU cores\n",
      "IPU available: False, using: 0 IPUs\n",
      "HPU available: False, using: 0 HPUs\n",
      "\n",
      "  | Name      | Type    | Params\n",
      "--------------------------------------\n",
      "0 | model     | CatNN   | 1.1 M \n",
      "1 | loss_func | BCELoss | 0     \n",
      "--------------------------------------\n",
      "1.1 M     Trainable params\n",
      "0         Non-trainable params\n",
      "1.1 M     Total params\n",
      "4.267     Total estimated model params size (MB)\n"
     ]
    },
    {
     "data": {
      "application/vnd.jupyter.widget-view+json": {
       "model_id": "4e6a1d14a23b477c9c6485b63ca416d9",
       "version_major": 2,
       "version_minor": 0
      },
      "text/plain": [
       "Sanity Checking: 0it [00:00, ?it/s]"
      ]
     },
     "metadata": {},
     "output_type": "display_data"
    },
    {
     "name": "stderr",
     "output_type": "stream",
     "text": [
      "/Users/carlo.dedonno/miniconda3/envs/scpoli/lib/python3.11/site-packages/pytorch_lightning/trainer/connectors/data_connector.py:224: PossibleUserWarning: The dataloader, val_dataloader 0, does not have many workers which may be a bottleneck. Consider increasing the value of the `num_workers` argument` (try 8 which is the number of cpus on this machine) in the `DataLoader` init to improve performance.\n",
      "  rank_zero_warn(\n",
      "/Users/carlo.dedonno/miniconda3/envs/scpoli/lib/python3.11/site-packages/pytorch_lightning/trainer/connectors/data_connector.py:224: PossibleUserWarning: The dataloader, train_dataloader, does not have many workers which may be a bottleneck. Consider increasing the value of the `num_workers` argument` (try 8 which is the number of cpus on this machine) in the `DataLoader` init to improve performance.\n",
      "  rank_zero_warn(\n"
     ]
    },
    {
     "data": {
      "application/vnd.jupyter.widget-view+json": {
       "model_id": "316e9ae51fb04436bd229e9269454608",
       "version_major": 2,
       "version_minor": 0
      },
      "text/plain": [
       "Training: 0it [00:00, ?it/s]"
      ]
     },
     "metadata": {},
     "output_type": "display_data"
    },
    {
     "data": {
      "application/vnd.jupyter.widget-view+json": {
       "model_id": "a8dade8ffe644ceab72c1023dc48c1ce",
       "version_major": 2,
       "version_minor": 0
      },
      "text/plain": [
       "Validation: 0it [00:00, ?it/s]"
      ]
     },
     "metadata": {},
     "output_type": "display_data"
    },
    {
     "data": {
      "application/vnd.jupyter.widget-view+json": {
       "model_id": "9b922e6b34cf4645b47536f34a63d6be",
       "version_major": 2,
       "version_minor": 0
      },
      "text/plain": [
       "Validation: 0it [00:00, ?it/s]"
      ]
     },
     "metadata": {},
     "output_type": "display_data"
    },
    {
     "data": {
      "application/vnd.jupyter.widget-view+json": {
       "model_id": "be01182d8a244c9f8b072072a8b975b0",
       "version_major": 2,
       "version_minor": 0
      },
      "text/plain": [
       "Validation: 0it [00:00, ?it/s]"
      ]
     },
     "metadata": {},
     "output_type": "display_data"
    },
    {
     "data": {
      "application/vnd.jupyter.widget-view+json": {
       "model_id": "eb285861b9be4d53b8e2654a65d62740",
       "version_major": 2,
       "version_minor": 0
      },
      "text/plain": [
       "Validation: 0it [00:00, ?it/s]"
      ]
     },
     "metadata": {},
     "output_type": "display_data"
    },
    {
     "data": {
      "application/vnd.jupyter.widget-view+json": {
       "model_id": "56114e66190d446da9e48b37afce1336",
       "version_major": 2,
       "version_minor": 0
      },
      "text/plain": [
       "Validation: 0it [00:00, ?it/s]"
      ]
     },
     "metadata": {},
     "output_type": "display_data"
    },
    {
     "data": {
      "application/vnd.jupyter.widget-view+json": {
       "model_id": "4e79471b25b94ff4b10ba7f283e37ed3",
       "version_major": 2,
       "version_minor": 0
      },
      "text/plain": [
       "Validation: 0it [00:00, ?it/s]"
      ]
     },
     "metadata": {},
     "output_type": "display_data"
    },
    {
     "data": {
      "application/vnd.jupyter.widget-view+json": {
       "model_id": "573f4746ef4c405190baf6d11535aeb6",
       "version_major": 2,
       "version_minor": 0
      },
      "text/plain": [
       "Validation: 0it [00:00, ?it/s]"
      ]
     },
     "metadata": {},
     "output_type": "display_data"
    },
    {
     "data": {
      "application/vnd.jupyter.widget-view+json": {
       "model_id": "db8d34c954104aff8a2671ea5a5d2861",
       "version_major": 2,
       "version_minor": 0
      },
      "text/plain": [
       "Validation: 0it [00:00, ?it/s]"
      ]
     },
     "metadata": {},
     "output_type": "display_data"
    },
    {
     "data": {
      "application/vnd.jupyter.widget-view+json": {
       "model_id": "e98a92c4d2be48f19e69dcbc60aed695",
       "version_major": 2,
       "version_minor": 0
      },
      "text/plain": [
       "Validation: 0it [00:00, ?it/s]"
      ]
     },
     "metadata": {},
     "output_type": "display_data"
    },
    {
     "data": {
      "application/vnd.jupyter.widget-view+json": {
       "model_id": "d777004be0814d6a8945283b84573051",
       "version_major": 2,
       "version_minor": 0
      },
      "text/plain": [
       "Validation: 0it [00:00, ?it/s]"
      ]
     },
     "metadata": {},
     "output_type": "display_data"
    },
    {
     "data": {
      "application/vnd.jupyter.widget-view+json": {
       "model_id": "a993fa2e5b9e404bb80d112efef7466b",
       "version_major": 2,
       "version_minor": 0
      },
      "text/plain": [
       "Validation: 0it [00:00, ?it/s]"
      ]
     },
     "metadata": {},
     "output_type": "display_data"
    },
    {
     "data": {
      "application/vnd.jupyter.widget-view+json": {
       "model_id": "c9bfb0806bbf4dd7835f3b00e5caa1a0",
       "version_major": 2,
       "version_minor": 0
      },
      "text/plain": [
       "Validation: 0it [00:00, ?it/s]"
      ]
     },
     "metadata": {},
     "output_type": "display_data"
    },
    {
     "data": {
      "application/vnd.jupyter.widget-view+json": {
       "model_id": "7edecd73b99f4feb98bdaca22fdb33cd",
       "version_major": 2,
       "version_minor": 0
      },
      "text/plain": [
       "Validation: 0it [00:00, ?it/s]"
      ]
     },
     "metadata": {},
     "output_type": "display_data"
    },
    {
     "data": {
      "application/vnd.jupyter.widget-view+json": {
       "model_id": "7f84349c022c425185c12694293753eb",
       "version_major": 2,
       "version_minor": 0
      },
      "text/plain": [
       "Validation: 0it [00:00, ?it/s]"
      ]
     },
     "metadata": {},
     "output_type": "display_data"
    },
    {
     "data": {
      "application/vnd.jupyter.widget-view+json": {
       "model_id": "b934dff3a853496cb4284b6282f2d8a5",
       "version_major": 2,
       "version_minor": 0
      },
      "text/plain": [
       "Validation: 0it [00:00, ?it/s]"
      ]
     },
     "metadata": {},
     "output_type": "display_data"
    },
    {
     "data": {
      "application/vnd.jupyter.widget-view+json": {
       "model_id": "b56b95e556c0427eb5a3dfd1c5a7e6fd",
       "version_major": 2,
       "version_minor": 0
      },
      "text/plain": [
       "Validation: 0it [00:00, ?it/s]"
      ]
     },
     "metadata": {},
     "output_type": "display_data"
    },
    {
     "data": {
      "application/vnd.jupyter.widget-view+json": {
       "model_id": "d1b389000f4e4f2088424e59ed51b239",
       "version_major": 2,
       "version_minor": 0
      },
      "text/plain": [
       "Validation: 0it [00:00, ?it/s]"
      ]
     },
     "metadata": {},
     "output_type": "display_data"
    },
    {
     "data": {
      "application/vnd.jupyter.widget-view+json": {
       "model_id": "56acb646a39a4efe81954644a2aa9def",
       "version_major": 2,
       "version_minor": 0
      },
      "text/plain": [
       "Validation: 0it [00:00, ?it/s]"
      ]
     },
     "metadata": {},
     "output_type": "display_data"
    }
   ],
   "source": [
    "#tb_logger = pl_loggers.TensorBoardLogger('logs/')\n",
    "net = CatNN(hidden_neurons=500)\n",
    "trainer = pl.Trainer(\n",
    "    max_epochs=500, \n",
    "    callbacks=[\n",
    "        EarlyStopping(monitor=\"val_loss\", mode=\"min\"),\n",
    "        TQDMProgressBar(),\n",
    "        ],\n",
    "    enable_progress_bar=True,\n",
    ")\n",
    "trainer.fit(\n",
    "    model=PredTask(net), \n",
    "    train_dataloaders=train_loader, \n",
    "    val_dataloaders=valid_loader,\n",
    ")\n"
   ]
  },
  {
   "cell_type": "code",
   "execution_count": 242,
   "metadata": {},
   "outputs": [
    {
     "name": "stderr",
     "output_type": "stream",
     "text": [
      "/var/folders/8s/gh93gg096s549r89np991zwn35y14d/T/ipykernel_33196/1757664251.py:5: UserWarning: To copy construct from a tensor, it is recommended to use sourceTensor.clone().detach() or sourceTensor.clone().detach().requires_grad_(True), rather than torch.tensor(sourceTensor).\n",
      "  preds = net(torch.tensor(X_gexp), torch.tensor(X_viability)).detach().numpy()\n"
     ]
    },
    {
     "data": {
      "text/plain": [
       "{'val_loss': tensor(0.0157), 'train_loss': tensor(0.0140)}"
      ]
     },
     "execution_count": 242,
     "metadata": {},
     "output_type": "execute_result"
    }
   ],
   "source": [
    "gexp_cols = test_features.columns[test_features.columns.str.contains(\"g-\")]\n",
    "viability_cols = test_features.columns[test_features.columns.str.contains(\"c-\")]  \n",
    "X_gexp = torch.tensor(test_features[gexp_cols].values, dtype=torch.float32)\n",
    "X_viability = torch.tensor(test_features[viability_cols].values, dtype=torch.float32)\n",
    "preds = net(torch.tensor(X_gexp), torch.tensor(X_viability)).detach().numpy()\n",
    "trainer.callback_metrics"
   ]
  },
  {
   "cell_type": "code",
   "execution_count": 243,
   "metadata": {},
   "outputs": [
    {
     "data": {
      "text/plain": [
       "<Axes: >"
      ]
     },
     "execution_count": 243,
     "metadata": {},
     "output_type": "execute_result"
    },
    {
     "data": {
      "image/png": "[encoded data removed]",
      "text/plain": [
       "<Figure size 200x200 with 2 Axes>"
      ]
     },
     "metadata": {},
     "output_type": "display_data"
    }
   ],
   "source": [
    "sns.heatmap(preds)"
   ]
  },
  {
   "cell_type": "code",
   "execution_count": null,
   "metadata": {},
   "outputs": [],
   "source": []
  }
 ],
 "metadata": {
  "kernelspec": {
   "display_name": "Python 3 (ipykernel)",
   "language": "python",
   "name": "python3"
  },
  "language_info": {
   "codemirror_mode": {
    "name": "ipython",
    "version": 3
   },
   "file_extension": ".py",
   "mimetype": "text/x-python",
   "name": "python",
   "nbconvert_exporter": "python",
   "pygments_lexer": "ipython3",
   "version": "3.11.3"
  }
 },
 "nbformat": 4,
 "nbformat_minor": 4
}
